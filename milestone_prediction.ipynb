{
 "cells": [
  {
   "cell_type": "code",
   "execution_count": 4,
   "id": "6b46687e-8a46-4e75-ae53-5c08b35f5628",
   "metadata": {},
   "outputs": [],
   "source": [
    "# importing the depencies\n",
    "import numpy as np\n",
    "import pandas as pd\n",
    "from sklearn.model_selection import train_test_split\n",
    "from sklearn.linear_model import LogisticRegression\n",
    "from sklearn.metrics import accuracy_score"
   ]
  },
  {
   "cell_type": "code",
   "execution_count": null,
   "id": "c3929855-8626-4448-bfdd-f82834b2d848",
   "metadata": {},
   "outputs": [],
   "source": [
    "# data collection and processing\n",
    "# load dataset\n",
    "\n",
    "sonar_data = pd.read_csv(r\"C:\\Users\\vaib9\\OneDrive\\Desktop\\milestone prediction\\sonar data.csv\", header = None)\n",
    "sonar_data.head()"
   ]
  },
  {
   "cell_type": "code",
   "execution_count": null,
   "id": "351ec60e-6dbc-41ce-992a-fb3cbefb3a07",
   "metadata": {},
   "outputs": [],
   "source": [
    "# number of rows and columns\n",
    "sonar_data.shape"
   ]
  },
  {
   "cell_type": "code",
   "execution_count": null,
   "id": "91d3abb1-9fcc-4d70-b4e5-21c7525b29fc",
   "metadata": {},
   "outputs": [],
   "source": [
    "sonar_data.describe()  #to get statistical info of data"
   ]
  },
  {
   "cell_type": "code",
   "execution_count": null,
   "id": "60ca7c96-cbc6-4498-b8eb-1161a2898bdf",
   "metadata": {},
   "outputs": [],
   "source": [
    "sonar_data[60].value_counts()"
   ]
  },
  {
   "cell_type": "code",
   "execution_count": null,
   "id": "4c544930-262e-42da-981a-d2e9c148fef9",
   "metadata": {},
   "outputs": [],
   "source": [
    "sonar_data.groupby(60).mean()"
   ]
  },
  {
   "cell_type": "code",
   "execution_count": null,
   "id": "a601951f-c893-4538-9271-20bbd29a1948",
   "metadata": {},
   "outputs": [],
   "source": [
    "# separating data & labels\n",
    "x = sonar_data.drop(columns=60, axis=1)\n",
    "y = sonar_data[60]\n",
    "print(x)\n",
    "print(y)"
   ]
  },
  {
   "cell_type": "code",
   "execution_count": 23,
   "id": "adfb4b44-2d8b-4726-b4b6-b6b0aa7c006d",
   "metadata": {},
   "outputs": [],
   "source": [
    "# traing & test data\n",
    "x_train, x_test, y_train, y_test = train_test_split(x, y, test_size = 0.1, stratify=y, random_state=1)"
   ]
  },
  {
   "cell_type": "code",
   "execution_count": null,
   "id": "ef6ad791-aa3a-4b94-a2b0-8872cb7a2e60",
   "metadata": {},
   "outputs": [],
   "source": [
    "# print(x.shape, x_train.shape, x_test.shape)\n",
    "print(x_train)\n",
    "print(y_train)"
   ]
  },
  {
   "cell_type": "code",
   "execution_count": 25,
   "id": "f4f1604f-a986-4bba-9dfe-8dfee16c4b46",
   "metadata": {},
   "outputs": [],
   "source": [
    "# training model using logistic regression\n",
    "model = LogisticRegression()"
   ]
  },
  {
   "cell_type": "code",
   "execution_count": null,
   "id": "bd2f3ae7-439b-47c2-8ea9-b707cf5c0577",
   "metadata": {},
   "outputs": [],
   "source": [
    "# traing logistic regression mmodel with training data\n",
    "model.fit(x_train, y_train)\n"
   ]
  },
  {
   "cell_type": "code",
   "execution_count": 28,
   "id": "8458d169-e754-4f4b-a3b5-624378afe7ac",
   "metadata": {},
   "outputs": [],
   "source": [
    "# model evaluation\n",
    "# accuracy on traing data\n",
    "x_train_prediction = model.predict(x_train)\n",
    "training_data_accuracy = accuracy_score(x_train_prediction, y_train)"
   ]
  },
  {
   "cell_type": "code",
   "execution_count": 29,
   "id": "2c07467e-21b5-4926-ac01-7242648dfb4c",
   "metadata": {},
   "outputs": [
    {
     "name": "stdout",
     "output_type": "stream",
     "text": [
      "Accuracy on training data :  0.8342245989304813\n"
     ]
    }
   ],
   "source": [
    "print(\"Accuracy on training data : \",training_data_accuracy)"
   ]
  },
  {
   "cell_type": "code",
   "execution_count": 30,
   "id": "b757e651-0ed7-40ff-8707-185a49b81ee6",
   "metadata": {},
   "outputs": [
    {
     "name": "stdout",
     "output_type": "stream",
     "text": [
      "Accuracy on test data :  0.7619047619047619\n"
     ]
    }
   ],
   "source": [
    "# accuracy on test data\n",
    "x_test_prediction = model.predict(x_test)\n",
    "test_data_accuracy = accuracy_score(x_test_prediction, y_test)\n",
    "print(\"Accuracy on test data : \",test_data_accuracy)"
   ]
  },
  {
   "cell_type": "code",
   "execution_count": 36,
   "id": "a8e86f61-6a41-487f-9720-04704f98e328",
   "metadata": {},
   "outputs": [
    {
     "name": "stdout",
     "output_type": "stream",
     "text": [
      "The Object Is A Rock\n"
     ]
    }
   ],
   "source": [
    "# making predictive system\n",
    "# input_data = (0.0094, 0.0333, 0.0306, 0.0376, 0.1296, 0.1795, 0.1909, 0.1692, 0.187, 0.1725, 0.2228, 0.3106, 0.4144, 0.5157, 0.5369, 0.5107, 0.6441, 0.7326, 0.8164, 0.8856, 0.9891, 1, 0.875, 0.8631, 0.9074, 0.8674, 0.775, 0.66, 0.5615, 0.4016, 0.2331, 0.1164, 0.1095, 0.0431, 0.0619, 0.1956, 0.212, 0.3242, 0.4102, 0.2939, 0.1911, 0.1702, 0.101, 0.1512, 0.1427, 0.1097, 0.1173, 0.0972, 0.0703, 0.0281, 0.0216, 0.0153, 0.0112, 0.0241, 0.0164, 0.0055, 0.0078, 0.0055, 0.0091, 0.0067\n",
    "# )\n",
    "input_data = (0.02, 0.0371, 0.0428, 0.0207, 0.0954, 0.0986, 0.1539, 0.1601, 0.3109, 0.2111, \n",
    "               0.1609, 0.1582, 0.2238, 0.0645, 0.066, 0.2273, 0.31, 0.2999, 0.5078, 0.4797,\n",
    "               0.5783, 0.5071, 0.4328, 0.555, 0.6711, 0.6415, 0.7104, 0.808, 0.6791, 0.3857,\n",
    "               0.1307, 0.2604, 0.5121, 0.7547, 0.8537, 0.8507, 0.6692, 0.6097, 0.4943, 0.2744,\n",
    "               0.051, 0.2834, 0.2825, 0.4256, 0.2641, 0.1386, 0.1051, 0.1343, 0.0383, 0.0324,\n",
    "               0.0232, 0.0027, 0.0065, 0.0159, 0.0072, 0.0167, 0.018, 0.0084, 0.009, 0.0032)\n",
    "# converting input data into numpy array for better result\n",
    "input_data_as_numpy_array = np.asarray(input_data)\n",
    "\n",
    "# reshape the numpy array as we are predicting for one instance\n",
    "input_data_reshape = input_data_as_numpy_array.reshape(1, -1)\n",
    "\n",
    "prediction = model.predict(input_data_reshape)\n",
    "if (prediction[0]=='R'):\n",
    "    print(\"The Object Is A Rock\")\n",
    "else:\n",
    "    print(\"The Object Is A Mine\")"
   ]
  },
  {
   "cell_type": "code",
   "execution_count": null,
   "id": "72c52fd2-686c-4378-8add-2fcc15ddde45",
   "metadata": {},
   "outputs": [],
   "source": []
  }
 ],
 "metadata": {
  "kernelspec": {
   "display_name": "Python 3 (ipykernel)",
   "language": "python",
   "name": "python3"
  },
  "language_info": {
   "codemirror_mode": {
    "name": "ipython",
    "version": 3
   },
   "file_extension": ".py",
   "mimetype": "text/x-python",
   "name": "python",
   "nbconvert_exporter": "python",
   "pygments_lexer": "ipython3",
   "version": "3.13.5"
  }
 },
 "nbformat": 4,
 "nbformat_minor": 5
}
